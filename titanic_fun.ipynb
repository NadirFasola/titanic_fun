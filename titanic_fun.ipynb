{
 "cells": [
  {
   "cell_type": "code",
   "execution_count": 71,
   "metadata": {},
   "outputs": [],
   "source": [
    "import pandas as pd\n",
    "import matplotlib.pyplot as plt\n",
    "\n",
    "from sklearn.impute import SimpleImputer, KNNImputer\n",
    "from sklearn.preprocessing import OneHotEncoder, OrdinalEncoder, StandardScaler\n",
    "from sklearn.base import BaseEstimator, TransformerMixin\n",
    "from sklearn.compose import ColumnTransformer\n",
    "\n",
    "from sklearn.pipeline import Pipeline"
   ]
  },
  {
   "cell_type": "code",
   "execution_count": 72,
   "metadata": {},
   "outputs": [],
   "source": [
    "data_path = './data/'\n",
    "raw_train_df = pd.read_csv(data_path+'train.csv', index_col='PassengerId')\n",
    "raw_test_df = pd.read_csv(data_path+'test.csv', index_col='PassengerId')"
   ]
  },
  {
   "cell_type": "code",
   "execution_count": 73,
   "metadata": {},
   "outputs": [
    {
     "name": "stdout",
     "output_type": "stream",
     "text": [
      "<class 'pandas.core.frame.DataFrame'>\n",
      "Index: 891 entries, 1 to 891\n",
      "Data columns (total 11 columns):\n",
      " #   Column    Non-Null Count  Dtype  \n",
      "---  ------    --------------  -----  \n",
      " 0   Survived  891 non-null    int64  \n",
      " 1   Pclass    891 non-null    int64  \n",
      " 2   Name      891 non-null    object \n",
      " 3   Sex       891 non-null    object \n",
      " 4   Age       714 non-null    float64\n",
      " 5   SibSp     891 non-null    int64  \n",
      " 6   Parch     891 non-null    int64  \n",
      " 7   Ticket    891 non-null    object \n",
      " 8   Fare      891 non-null    float64\n",
      " 9   Cabin     204 non-null    object \n",
      " 10  Embarked  889 non-null    object \n",
      "dtypes: float64(2), int64(4), object(5)\n",
      "memory usage: 83.5+ KB\n"
     ]
    },
    {
     "data": {
      "text/plain": [
       "(         Survived      Pclass         Age       SibSp       Parch        Fare\n",
       " count  891.000000  891.000000  714.000000  891.000000  891.000000  891.000000\n",
       " mean     0.383838    2.308642   29.699118    0.523008    0.381594   32.204208\n",
       " std      0.486592    0.836071   14.526497    1.102743    0.806057   49.693429\n",
       " min      0.000000    1.000000    0.420000    0.000000    0.000000    0.000000\n",
       " 25%      0.000000    2.000000   20.125000    0.000000    0.000000    7.910400\n",
       " 50%      0.000000    3.000000   28.000000    0.000000    0.000000   14.454200\n",
       " 75%      1.000000    3.000000   38.000000    1.000000    0.000000   31.000000\n",
       " max      1.000000    3.000000   80.000000    8.000000    6.000000  512.329200,\n",
       " None)"
      ]
     },
     "execution_count": 73,
     "metadata": {},
     "output_type": "execute_result"
    }
   ],
   "source": [
    "raw_train_df.describe(), raw_train_df.info()"
   ]
  },
  {
   "cell_type": "code",
   "execution_count": 74,
   "metadata": {},
   "outputs": [],
   "source": [
    "columns_to_scale = ['Fare']\n",
    "scaler = StandardScaler()"
   ]
  },
  {
   "cell_type": "code",
   "execution_count": 75,
   "metadata": {},
   "outputs": [],
   "source": [
    "# Define a custom estimator to extract the deck information from the cabin column\n",
    "class ExtractNthLetter(BaseEstimator, TransformerMixin):\n",
    "    def __init__(self, column, n_letters=1):\n",
    "        self.column = column\n",
    "        self.n_letters = n_letters\n",
    "\n",
    "    def fit(self, X, y=None):\n",
    "        return self\n",
    "\n",
    "    def transform(self, X):\n",
    "        X = X.copy()\n",
    "        X[\"Deck\"] = X[self.column].str[:self.n_letters]\n",
    "        X.drop(columns=[self.column], inplace=True)\n",
    "        return X\n",
    "\n",
    "    def get_feature_names_out(self, input_features):\n",
    "        return [\"Deck\"]"
   ]
  },
  {
   "cell_type": "code",
   "execution_count": 76,
   "metadata": {},
   "outputs": [],
   "source": [
    "# Pipelines\n",
    "deck_pipeline = Pipeline([\n",
    "    ('deck_extract', ExtractNthLetter(column='Cabin')),\n",
    "    ('deck_imputer', SimpleImputer(strategy=\"constant\", fill_value=\"Missing Deck\")),\n",
    "    ('deck_onehot', OneHotEncoder(handle_unknown='ignore', sparse_output=False))\n",
    "])\n",
    "\n",
    "embarked_pipeline = Pipeline([\n",
    "    ('embarked_imputer', SimpleImputer(strategy='most_frequent', copy=False)),\n",
    "    ('embarked_onehot', OneHotEncoder(handle_unknown='ignore', sparse_output=False))\n",
    "])\n",
    "\n",
    "sex_pipeline = Pipeline([\n",
    "    ('sex_encoder', OrdinalEncoder(categories=[['female', 'male']], encoded_missing_value=-1))\n",
    "])\n",
    "\n",
    "age_pipeline = Pipeline([\n",
    "    ('age_imputer', KNNImputer(n_neighbors=5))\n",
    "])"
   ]
  },
  {
   "cell_type": "code",
   "execution_count": 77,
   "metadata": {},
   "outputs": [],
   "source": [
    "# Column Transformer\n",
    "preprocessor = ColumnTransformer([\n",
    "    ('standardise', scaler, columns_to_scale),                # Standardize numerical features\n",
    "    ('deck', deck_pipeline, ['Cabin']),                       # Extract and encode deck info\n",
    "    ('embarked', embarked_pipeline, ['Embarked']),            # One-hot-encode Embarked\n",
    "    ('sex', sex_pipeline, ['Sex']),                           # Ordinal encode Sex\n",
    "    ('age', age_pipeline, ['Age'])                            # Impute Age\n",
    "], remainder='passthrough', verbose_feature_names_out=False)"
   ]
  },
  {
   "cell_type": "code",
   "execution_count": 78,
   "metadata": {},
   "outputs": [],
   "source": [
    "# Preprocess the data\n",
    "train_df = preprocessor.fit_transform(raw_train_df)\n",
    "\n",
    "# Convert to DataFrame with column names\n",
    "train_df = pd.DataFrame(\n",
    "    train_df,\n",
    "    index=raw_train_df.index,\n",
    "    columns=preprocessor.get_feature_names_out()\n",
    ").convert_dtypes()"
   ]
  },
  {
   "cell_type": "code",
   "execution_count": 79,
   "metadata": {},
   "outputs": [
    {
     "name": "stdout",
     "output_type": "stream",
     "text": [
      "<class 'pandas.core.frame.DataFrame'>\n",
      "Index: 891 entries, 1 to 891\n",
      "Data columns (total 21 columns):\n",
      " #   Column             Non-Null Count  Dtype  \n",
      "---  ------             --------------  -----  \n",
      " 0   Fare               891 non-null    Float64\n",
      " 1   Deck_A             891 non-null    Int64  \n",
      " 2   Deck_B             891 non-null    Int64  \n",
      " 3   Deck_C             891 non-null    Int64  \n",
      " 4   Deck_D             891 non-null    Int64  \n",
      " 5   Deck_E             891 non-null    Int64  \n",
      " 6   Deck_F             891 non-null    Int64  \n",
      " 7   Deck_G             891 non-null    Int64  \n",
      " 8   Deck_Missing Deck  891 non-null    Int64  \n",
      " 9   Deck_T             891 non-null    Int64  \n",
      " 10  Embarked_C         891 non-null    Int64  \n",
      " 11  Embarked_Q         891 non-null    Int64  \n",
      " 12  Embarked_S         891 non-null    Int64  \n",
      " 13  Sex                891 non-null    Int64  \n",
      " 14  Age                891 non-null    Float64\n",
      " 15  Survived           891 non-null    Int64  \n",
      " 16  Pclass             891 non-null    Int64  \n",
      " 17  Name               891 non-null    string \n",
      " 18  SibSp              891 non-null    Int64  \n",
      " 19  Parch              891 non-null    Int64  \n",
      " 20  Ticket             891 non-null    string \n",
      "dtypes: Float64(2), Int64(17), string(2)\n",
      "memory usage: 169.7 KB\n"
     ]
    }
   ],
   "source": [
    "train_df.info()"
   ]
  }
 ],
 "metadata": {
  "kernelspec": {
   "display_name": "data_science",
   "language": "python",
   "name": "python3"
  },
  "language_info": {
   "codemirror_mode": {
    "name": "ipython",
    "version": 3
   },
   "file_extension": ".py",
   "mimetype": "text/x-python",
   "name": "python",
   "nbconvert_exporter": "python",
   "pygments_lexer": "ipython3",
   "version": "3.12.9"
  }
 },
 "nbformat": 4,
 "nbformat_minor": 2
}
